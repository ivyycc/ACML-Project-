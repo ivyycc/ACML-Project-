{
 "cells": [
  {
   "cell_type": "code",
   "execution_count": null,
   "id": "49060fb2-d9cf-45aa-b50f-41cbb879743a",
   "metadata": {},
   "outputs": [],
   "source": [
    "# Install scikit-learn if not already installed\n",
    "#Import libraries\n",
    "import pandas as pd #For data manipulation and analysis\n",
    "import os #For file and directory manipulation\n",
    "import numpy as np #For numerical operations\n",
    "import matplotlib.pyplot as plt #For data visualization\n",
    "import seaborn as sns #For statistical data visualization\n",
    "from sklearn.preprocessing import StandardScaler, LabelEncoder, OneHotEncoder #For data preprocessing"
   ]
  },
  {
   "cell_type": "code",
   "execution_count": 5,
   "id": "2e10be0c-f570-4aca-90b0-dff7f5e46778",
   "metadata": {},
   "outputs": [
    {
     "name": "stderr",
     "output_type": "stream",
     "text": [
      "<>:2: SyntaxWarning: invalid escape sequence '\\D'\n",
      "<>:8: SyntaxWarning: invalid escape sequence '\\D'\n",
      "<>:2: SyntaxWarning: invalid escape sequence '\\D'\n",
      "<>:8: SyntaxWarning: invalid escape sequence '\\D'\n",
      "C:\\Users\\Bruce Mphekgwane\\AppData\\Local\\Temp\\ipykernel_40096\\2223465588.py:2: SyntaxWarning: invalid escape sequence '\\D'\n",
      "  filepath = 'C:/Users/Bruce Mphekgwane\\Downloads/archive/test.csv'  # Replace with the actual path to your CSV file\n",
      "C:\\Users\\Bruce Mphekgwane\\AppData\\Local\\Temp\\ipykernel_40096\\2223465588.py:8: SyntaxWarning: invalid escape sequence '\\D'\n",
      "  filepath2 = 'C:/Users/Bruce Mphekgwane\\Downloads/archive/train.csv'  # Replace with the actual path to your CSV file\n"
     ]
    }
   ],
   "source": [
    "# Define the file path\n",
    "filepath = 'C:/Users/Bruce Mphekgwane\\Downloads/archive/test.csv'  # Replace with the actual path to your CSV file\n",
    "\n",
    "# Load the CSV file into a DataFrame\n",
    "df_Test = pd.read_csv(filepath)\n",
    "\n",
    "# Define the file path\n",
    "filepath2 = 'C:/Users/Bruce Mphekgwane\\Downloads/archive/train.csv'  # Replace with the actual path to your CSV file\n",
    "\n",
    "# Load the CSV file into a DataFrame\n",
    "df_Test2 = pd.read_csv(filepath)\n"
   ]
  },
  {
   "cell_type": "code",
   "execution_count": 6,
   "id": "7711fea4-8ac2-4bdc-bfc7-33c1efffce3a",
   "metadata": {},
   "outputs": [
    {
     "data": {
      "text/html": [
       "<div>\n",
       "<style scoped>\n",
       "    .dataframe tbody tr th:only-of-type {\n",
       "        vertical-align: middle;\n",
       "    }\n",
       "\n",
       "    .dataframe tbody tr th {\n",
       "        vertical-align: top;\n",
       "    }\n",
       "\n",
       "    .dataframe thead th {\n",
       "        text-align: right;\n",
       "    }\n",
       "</style>\n",
       "<table border=\"1\" class=\"dataframe\">\n",
       "  <thead>\n",
       "    <tr style=\"text-align: right;\">\n",
       "      <th></th>\n",
       "      <th>Loan_ID</th>\n",
       "      <th>Gender</th>\n",
       "      <th>Married</th>\n",
       "      <th>Dependents</th>\n",
       "      <th>Education</th>\n",
       "      <th>Self_Employed</th>\n",
       "      <th>ApplicantIncome</th>\n",
       "      <th>CoapplicantIncome</th>\n",
       "      <th>LoanAmount</th>\n",
       "      <th>Loan_Amount_Term</th>\n",
       "      <th>Credit_History</th>\n",
       "      <th>Property_Area</th>\n",
       "      <th>dataset_name</th>\n",
       "    </tr>\n",
       "  </thead>\n",
       "  <tbody>\n",
       "    <tr>\n",
       "      <th>0</th>\n",
       "      <td>LP001015</td>\n",
       "      <td>Male</td>\n",
       "      <td>Yes</td>\n",
       "      <td>0</td>\n",
       "      <td>Graduate</td>\n",
       "      <td>No</td>\n",
       "      <td>5720</td>\n",
       "      <td>0</td>\n",
       "      <td>110.0</td>\n",
       "      <td>360.0</td>\n",
       "      <td>1.0</td>\n",
       "      <td>Urban</td>\n",
       "      <td>test</td>\n",
       "    </tr>\n",
       "    <tr>\n",
       "      <th>1</th>\n",
       "      <td>LP001022</td>\n",
       "      <td>Male</td>\n",
       "      <td>Yes</td>\n",
       "      <td>1</td>\n",
       "      <td>Graduate</td>\n",
       "      <td>No</td>\n",
       "      <td>3076</td>\n",
       "      <td>1500</td>\n",
       "      <td>126.0</td>\n",
       "      <td>360.0</td>\n",
       "      <td>1.0</td>\n",
       "      <td>Urban</td>\n",
       "      <td>test</td>\n",
       "    </tr>\n",
       "    <tr>\n",
       "      <th>2</th>\n",
       "      <td>LP001031</td>\n",
       "      <td>Male</td>\n",
       "      <td>Yes</td>\n",
       "      <td>2</td>\n",
       "      <td>Graduate</td>\n",
       "      <td>No</td>\n",
       "      <td>5000</td>\n",
       "      <td>1800</td>\n",
       "      <td>208.0</td>\n",
       "      <td>360.0</td>\n",
       "      <td>1.0</td>\n",
       "      <td>Urban</td>\n",
       "      <td>test</td>\n",
       "    </tr>\n",
       "    <tr>\n",
       "      <th>3</th>\n",
       "      <td>LP001035</td>\n",
       "      <td>Male</td>\n",
       "      <td>Yes</td>\n",
       "      <td>2</td>\n",
       "      <td>Graduate</td>\n",
       "      <td>No</td>\n",
       "      <td>2340</td>\n",
       "      <td>2546</td>\n",
       "      <td>100.0</td>\n",
       "      <td>360.0</td>\n",
       "      <td>NaN</td>\n",
       "      <td>Urban</td>\n",
       "      <td>test</td>\n",
       "    </tr>\n",
       "    <tr>\n",
       "      <th>4</th>\n",
       "      <td>LP001051</td>\n",
       "      <td>Male</td>\n",
       "      <td>No</td>\n",
       "      <td>0</td>\n",
       "      <td>Not Graduate</td>\n",
       "      <td>No</td>\n",
       "      <td>3276</td>\n",
       "      <td>0</td>\n",
       "      <td>78.0</td>\n",
       "      <td>360.0</td>\n",
       "      <td>1.0</td>\n",
       "      <td>Urban</td>\n",
       "      <td>test</td>\n",
       "    </tr>\n",
       "  </tbody>\n",
       "</table>\n",
       "</div>"
      ],
      "text/plain": [
       "    Loan_ID Gender Married Dependents     Education Self_Employed  \\\n",
       "0  LP001015   Male     Yes          0      Graduate            No   \n",
       "1  LP001022   Male     Yes          1      Graduate            No   \n",
       "2  LP001031   Male     Yes          2      Graduate            No   \n",
       "3  LP001035   Male     Yes          2      Graduate            No   \n",
       "4  LP001051   Male      No          0  Not Graduate            No   \n",
       "\n",
       "   ApplicantIncome  CoapplicantIncome  LoanAmount  Loan_Amount_Term  \\\n",
       "0             5720                  0       110.0             360.0   \n",
       "1             3076               1500       126.0             360.0   \n",
       "2             5000               1800       208.0             360.0   \n",
       "3             2340               2546       100.0             360.0   \n",
       "4             3276                  0        78.0             360.0   \n",
       "\n",
       "   Credit_History Property_Area dataset_name  \n",
       "0             1.0         Urban         test  \n",
       "1             1.0         Urban         test  \n",
       "2             1.0         Urban         test  \n",
       "3             NaN         Urban         test  \n",
       "4             1.0         Urban         test  "
      ]
     },
     "execution_count": 6,
     "metadata": {},
     "output_type": "execute_result"
    }
   ],
   "source": [
    "df_Test['dataset_name'] = 'test'\n",
    "df_Test2['dataset_name'] = 'train'\n",
    "# Concatenate the two DataFrames\n",
    "df = pd.concat([df_Test, df_Test2], ignore_index=True)\n",
    "df.head()"
   ]
  },
  {
   "cell_type": "markdown",
   "id": "7c0419af-c544-4d9d-95e6-90bea7b18a99",
   "metadata": {},
   "source": [
    "#Initial features and data types"
   ]
  },
  {
   "cell_type": "code",
   "execution_count": 8,
   "id": "7d63be77-327e-44a3-bc51-0c268c2a5803",
   "metadata": {},
   "outputs": [
    {
     "name": "stdout",
     "output_type": "stream",
     "text": [
      "<class 'pandas.core.frame.DataFrame'>\n",
      "RangeIndex: 734 entries, 0 to 733\n",
      "Data columns (total 13 columns):\n",
      " #   Column             Non-Null Count  Dtype  \n",
      "---  ------             --------------  -----  \n",
      " 0   Loan_ID            734 non-null    object \n",
      " 1   Gender             712 non-null    object \n",
      " 2   Married            734 non-null    object \n",
      " 3   Dependents         714 non-null    object \n",
      " 4   Education          734 non-null    object \n",
      " 5   Self_Employed      688 non-null    object \n",
      " 6   ApplicantIncome    734 non-null    int64  \n",
      " 7   CoapplicantIncome  734 non-null    int64  \n",
      " 8   LoanAmount         724 non-null    float64\n",
      " 9   Loan_Amount_Term   722 non-null    float64\n",
      " 10  Credit_History     676 non-null    float64\n",
      " 11  Property_Area      734 non-null    object \n",
      " 12  dataset_name       734 non-null    object \n",
      "dtypes: float64(3), int64(2), object(8)\n",
      "memory usage: 74.7+ KB\n"
     ]
    }
   ],
   "source": [
    "df.info()"
   ]
  },
  {
   "cell_type": "code",
   "execution_count": 12,
   "id": "b202a743-c172-4a7b-9656-d1b8719f6015",
   "metadata": {},
   "outputs": [
    {
     "name": "stdout",
     "output_type": "stream",
     "text": [
      "<class 'pandas.core.frame.DataFrame'>\n",
      "Index: 578 entries, 0 to 733\n",
      "Data columns (total 13 columns):\n",
      " #   Column             Non-Null Count  Dtype  \n",
      "---  ------             --------------  -----  \n",
      " 0   Loan_ID            578 non-null    object \n",
      " 1   Gender             578 non-null    object \n",
      " 2   Married            578 non-null    object \n",
      " 3   Dependents         578 non-null    object \n",
      " 4   Education          578 non-null    object \n",
      " 5   Self_Employed      578 non-null    object \n",
      " 6   ApplicantIncome    578 non-null    int64  \n",
      " 7   CoapplicantIncome  578 non-null    int64  \n",
      " 8   LoanAmount         578 non-null    float64\n",
      " 9   Loan_Amount_Term   578 non-null    float64\n",
      " 10  Credit_History     578 non-null    float64\n",
      " 11  Property_Area      578 non-null    object \n",
      " 12  dataset_name       578 non-null    object \n",
      "dtypes: float64(3), int64(2), object(8)\n",
      "memory usage: 63.2+ KB\n"
     ]
    }
   ],
   "source": [
    "df_na = df.copy()\n",
    "df_na = df_na.dropna()\n",
    "df_na.info()\n"
   ]
  },
  {
   "cell_type": "code",
   "execution_count": 13,
   "id": "90b6d45c-d0cb-4651-8034-d8d4a99f6ece",
   "metadata": {},
   "outputs": [
    {
     "name": "stdout",
     "output_type": "stream",
     "text": [
      "Gender\n",
      "Male      572\n",
      "Female    140\n",
      "Name: count, dtype: int64\n"
     ]
    }
   ],
   "source": [
    "# Count the number of rows for each gender\n",
    "gender_counts = df['Gender'].value_counts()\n",
    "\n",
    "# Display the counts\n",
    "print(gender_counts)"
   ]
  },
  {
   "cell_type": "code",
   "execution_count": 15,
   "id": "9ba6210f-782b-4d7b-8081-cb5a18fc5240",
   "metadata": {},
   "outputs": [
    {
     "name": "stderr",
     "output_type": "stream",
     "text": [
      "C:\\Users\\Bruce Mphekgwane\\AppData\\Local\\Temp\\ipykernel_40096\\1454027221.py:2: FutureWarning: A value is trying to be set on a copy of a DataFrame or Series through chained assignment using an inplace method.\n",
      "The behavior will change in pandas 3.0. This inplace method will never work because the intermediate object on which we are setting values always behaves as a copy.\n",
      "\n",
      "For example, when doing 'df[col].method(value, inplace=True)', try using 'df.method({col: value}, inplace=True)' or df[col] = df[col].method(value) instead, to perform the operation inplace on the original object.\n",
      "\n",
      "\n",
      "  df['Gender'].fillna('Male', inplace=True)\n"
     ]
    }
   ],
   "source": [
    "# Impute missing values in the 'Gender' column with 'Male'\n",
    "df['Gender'].fillna('Male', inplace=True)"
   ]
  },
  {
   "cell_type": "code",
   "execution_count": 17,
   "id": "bfeed0dc-1c78-461a-830b-15389e54ec7d",
   "metadata": {},
   "outputs": [
    {
     "name": "stdout",
     "output_type": "stream",
     "text": [
      "Gender\n",
      "Male      594\n",
      "Female    140\n",
      "Name: count, dtype: int64\n"
     ]
    }
   ],
   "source": [
    "# Count the number of rows for each gender\n",
    "gender_counts = df['Gender'].value_counts()\n",
    "\n",
    "# Display the counts\n",
    "print(gender_counts)"
   ]
  },
  {
   "cell_type": "code",
   "execution_count": 19,
   "id": "1d2757f9-686f-4f3b-8ed1-2f3fddb1202e",
   "metadata": {},
   "outputs": [
    {
     "name": "stdout",
     "output_type": "stream",
     "text": [
      "Most frequent value in 'Dependents': 0\n",
      "Most frequent value in 'Self_Employed': No\n",
      "Most frequent value in 'LoanAmount' (approx.): 150.0\n",
      "Most frequent value in 'Loan_Amount_Term' (approx.): 360.0\n",
      "Most frequent value in 'Credit_History' (approx.): 1.0\n"
     ]
    }
   ],
   "source": [
    "# Explore the most frequent values for each column\n",
    "columns_to_explore = ['Dependents', 'Self_Employed', 'LoanAmount', 'Loan_Amount_Term', 'Credit_History']\n",
    "\n",
    "for col in columns_to_explore:\n",
    "    if df[col].dtype == 'object':  # For categorical columns\n",
    "        print(f\"Most frequent value in '{col}': {df[col].mode()[0]}\")\n",
    "    else:  # For numerical columns\n",
    "        print(f\"Most frequent value in '{col}' (approx.): {df[col].value_counts().idxmax()}\")\n",
    "\n"
   ]
  },
  {
   "cell_type": "code",
   "execution_count": 20,
   "id": "1d257ea2-ab21-4dc9-b48d-64399ff232aa",
   "metadata": {},
   "outputs": [
    {
     "name": "stdout",
     "output_type": "stream",
     "text": [
      "Loan_ID              0\n",
      "Gender               0\n",
      "Married              0\n",
      "Dependents           0\n",
      "Education            0\n",
      "Self_Employed        0\n",
      "ApplicantIncome      0\n",
      "CoapplicantIncome    0\n",
      "LoanAmount           0\n",
      "Loan_Amount_Term     0\n",
      "Credit_History       0\n",
      "Property_Area        0\n",
      "dataset_name         0\n",
      "dtype: int64\n"
     ]
    },
    {
     "name": "stderr",
     "output_type": "stream",
     "text": [
      "C:\\Users\\Bruce Mphekgwane\\AppData\\Local\\Temp\\ipykernel_40096\\3098393254.py:2: FutureWarning: A value is trying to be set on a copy of a DataFrame or Series through chained assignment using an inplace method.\n",
      "The behavior will change in pandas 3.0. This inplace method will never work because the intermediate object on which we are setting values always behaves as a copy.\n",
      "\n",
      "For example, when doing 'df[col].method(value, inplace=True)', try using 'df.method({col: value}, inplace=True)' or df[col] = df[col].method(value) instead, to perform the operation inplace on the original object.\n",
      "\n",
      "\n",
      "  df['Dependents'].fillna('0', inplace=True)\n",
      "C:\\Users\\Bruce Mphekgwane\\AppData\\Local\\Temp\\ipykernel_40096\\3098393254.py:5: FutureWarning: A value is trying to be set on a copy of a DataFrame or Series through chained assignment using an inplace method.\n",
      "The behavior will change in pandas 3.0. This inplace method will never work because the intermediate object on which we are setting values always behaves as a copy.\n",
      "\n",
      "For example, when doing 'df[col].method(value, inplace=True)', try using 'df.method({col: value}, inplace=True)' or df[col] = df[col].method(value) instead, to perform the operation inplace on the original object.\n",
      "\n",
      "\n",
      "  df['Self_Employed'].fillna('No', inplace=True)\n",
      "C:\\Users\\Bruce Mphekgwane\\AppData\\Local\\Temp\\ipykernel_40096\\3098393254.py:8: FutureWarning: A value is trying to be set on a copy of a DataFrame or Series through chained assignment using an inplace method.\n",
      "The behavior will change in pandas 3.0. This inplace method will never work because the intermediate object on which we are setting values always behaves as a copy.\n",
      "\n",
      "For example, when doing 'df[col].method(value, inplace=True)', try using 'df.method({col: value}, inplace=True)' or df[col] = df[col].method(value) instead, to perform the operation inplace on the original object.\n",
      "\n",
      "\n",
      "  df['LoanAmount'].fillna(df['LoanAmount'].mean(), inplace=True)\n",
      "C:\\Users\\Bruce Mphekgwane\\AppData\\Local\\Temp\\ipykernel_40096\\3098393254.py:11: FutureWarning: A value is trying to be set on a copy of a DataFrame or Series through chained assignment using an inplace method.\n",
      "The behavior will change in pandas 3.0. This inplace method will never work because the intermediate object on which we are setting values always behaves as a copy.\n",
      "\n",
      "For example, when doing 'df[col].method(value, inplace=True)', try using 'df.method({col: value}, inplace=True)' or df[col] = df[col].method(value) instead, to perform the operation inplace on the original object.\n",
      "\n",
      "\n",
      "  df['Loan_Amount_Term'].fillna(df['Loan_Amount_Term'].mean(), inplace=True)\n",
      "C:\\Users\\Bruce Mphekgwane\\AppData\\Local\\Temp\\ipykernel_40096\\3098393254.py:14: FutureWarning: A value is trying to be set on a copy of a DataFrame or Series through chained assignment using an inplace method.\n",
      "The behavior will change in pandas 3.0. This inplace method will never work because the intermediate object on which we are setting values always behaves as a copy.\n",
      "\n",
      "For example, when doing 'df[col].method(value, inplace=True)', try using 'df.method({col: value}, inplace=True)' or df[col] = df[col].method(value) instead, to perform the operation inplace on the original object.\n",
      "\n",
      "\n",
      "  df['Credit_History'].fillna(1, inplace=True)\n"
     ]
    }
   ],
   "source": [
    "# Impute missing values in the 'Dependents' column with '0'\n",
    "df['Dependents'].fillna('0', inplace=True)\n",
    "\n",
    "# Impute missing values in the 'Self_Employed' column with 'No'\n",
    "df['Self_Employed'].fillna('No', inplace=True)\n",
    "\n",
    "# Impute missing values in the 'LoanAmount' column with its average\n",
    "df['LoanAmount'].fillna(df['LoanAmount'].mean(), inplace=True)\n",
    "\n",
    "# Impute missing values in the 'Loan_Amount_Term' column with its average\n",
    "df['Loan_Amount_Term'].fillna(df['Loan_Amount_Term'].mean(), inplace=True)\n",
    "\n",
    "# Impute missing values in the 'Credit_History' column with '1'\n",
    "df['Credit_History'].fillna(1, inplace=True)\n",
    "\n",
    "# Verify if all missing values are handled\n",
    "print(df.isnull().sum())"
   ]
  },
  {
   "cell_type": "code",
   "execution_count": 21,
   "id": "6e320b18-2603-47bf-9ac0-54c26e7e1c45",
   "metadata": {},
   "outputs": [
    {
     "name": "stdout",
     "output_type": "stream",
     "text": [
      "\n",
      "Summary statistics for numerical columns:\n",
      "       LoanAmount  Loan_Amount_Term\n",
      "count  734.000000        734.000000\n",
      "mean   136.132597        342.537396\n",
      "std     60.904453         64.576271\n",
      "min     28.000000          6.000000\n",
      "25%    101.000000        360.000000\n",
      "50%    126.000000        360.000000\n",
      "75%    157.750000        360.000000\n",
      "max    550.000000        480.000000\n"
     ]
    }
   ],
   "source": [
    "# Additional statistics for numerical columns\n",
    "numerical_cols = ['LoanAmount', 'Loan_Amount_Term']\n",
    "print(\"\\nSummary statistics for numerical columns:\")\n",
    "print(df[numerical_cols].describe())"
   ]
  },
  {
   "cell_type": "code",
   "execution_count": 23,
   "id": "73628a95-2c27-444a-9475-3f9a9bb9e674",
   "metadata": {},
   "outputs": [
    {
     "name": "stderr",
     "output_type": "stream",
     "text": [
      "<>:2: SyntaxWarning: invalid escape sequence '\\D'\n",
      "<>:8: SyntaxWarning: invalid escape sequence '\\D'\n",
      "<>:2: SyntaxWarning: invalid escape sequence '\\D'\n",
      "<>:8: SyntaxWarning: invalid escape sequence '\\D'\n",
      "C:\\Users\\Bruce Mphekgwane\\AppData\\Local\\Temp\\ipykernel_40096\\3824755984.py:2: SyntaxWarning: invalid escape sequence '\\D'\n",
      "  filepath = 'C:/Users/Bruce Mphekgwane\\Downloads/archive/test.csv'  # Replace with the actual path to your CSV file\n",
      "C:\\Users\\Bruce Mphekgwane\\AppData\\Local\\Temp\\ipykernel_40096\\3824755984.py:8: SyntaxWarning: invalid escape sequence '\\D'\n",
      "  filepath2 = 'C:/Users/Bruce Mphekgwane\\Downloads/archive/train.csv'  # Replace with the actual path to your CSV file\n"
     ]
    }
   ],
   "source": [
    "# Define the file path\n",
    "filepath = 'C:/Users/Bruce Mphekgwane\\Downloads/archive/test.csv'  # Replace with the actual path to your CSV file\n",
    "\n",
    "# Load the CSV file into a DataFrame\n",
    "df_Test = pd.read_csv(filepath)\n",
    "\n",
    "# Define the file path\n",
    "filepath2 = 'C:/Users/Bruce Mphekgwane\\Downloads/archive/train.csv'  # Replace with the actual path to your CSV file\n",
    "\n",
    "# Load the CSV file into a DataFrame\n",
    "df_Test2 = pd.read_csv(filepath)"
   ]
  },
  {
   "cell_type": "code",
   "execution_count": 24,
   "id": "e72edfee-fc6b-4ff4-996d-29b644a7047f",
   "metadata": {},
   "outputs": [
    {
     "name": "stdout",
     "output_type": "stream",
     "text": [
      "Loan_ID              0\n",
      "Gender               0\n",
      "Married              0\n",
      "Dependents           0\n",
      "Education            0\n",
      "Self_Employed        0\n",
      "ApplicantIncome      0\n",
      "CoapplicantIncome    0\n",
      "LoanAmount           0\n",
      "Loan_Amount_Term     0\n",
      "Credit_History       0\n",
      "Property_Area        0\n",
      "dataset_name         0\n",
      "dtype: int64\n"
     ]
    }
   ],
   "source": [
    "# Feature engineering for missing values\n",
    "\n",
    "# For 'Gender', create a new category 'Other' for missing values\n",
    "df['Gender'] = df['Gender'].fillna('Other')\n",
    "\n",
    "# For 'Dependents', create a new category '-1' for missing values\n",
    "df['Dependents'] = df['Dependents'].fillna('-1')\n",
    "\n",
    "# For 'Self_Employed', create a new category 'Other' for missing values\n",
    "df['Self_Employed'] = df['Self_Employed'].fillna('Other')\n",
    "\n",
    "# For 'LoanAmount', assign 0 to missing values\n",
    "df['LoanAmount'] = df['LoanAmount'].fillna(0)\n",
    "\n",
    "# For 'Loan_Amount_Term', assign 0 to missing values\n",
    "df['Loan_Amount_Term'] = df['Loan_Amount_Term'].fillna(0)\n",
    "\n",
    "# Verify if all missing values are handled\n",
    "print(df.isnull().sum())"
   ]
  },
  {
   "cell_type": "code",
   "execution_count": 25,
   "id": "f153f2a1-8804-4b13-9e5c-c583c38cf43e",
   "metadata": {},
   "outputs": [
    {
     "name": "stdout",
     "output_type": "stream",
     "text": [
      "<class 'pandas.core.frame.DataFrame'>\n",
      "RangeIndex: 734 entries, 0 to 733\n",
      "Data columns (total 13 columns):\n",
      " #   Column             Non-Null Count  Dtype  \n",
      "---  ------             --------------  -----  \n",
      " 0   Loan_ID            734 non-null    object \n",
      " 1   Gender             734 non-null    object \n",
      " 2   Married            734 non-null    object \n",
      " 3   Dependents         734 non-null    object \n",
      " 4   Education          734 non-null    object \n",
      " 5   Self_Employed      734 non-null    object \n",
      " 6   ApplicantIncome    734 non-null    int64  \n",
      " 7   CoapplicantIncome  734 non-null    int64  \n",
      " 8   LoanAmount         734 non-null    float64\n",
      " 9   Loan_Amount_Term   734 non-null    float64\n",
      " 10  Credit_History     734 non-null    float64\n",
      " 11  Property_Area      734 non-null    object \n",
      " 12  dataset_name       734 non-null    object \n",
      "dtypes: float64(3), int64(2), object(8)\n",
      "memory usage: 74.7+ KB\n"
     ]
    }
   ],
   "source": [
    "df.info()"
   ]
  },
  {
   "cell_type": "code",
   "execution_count": 27,
   "id": "14bab270-4d4f-4a4a-a7ed-4e2a08ac1d37",
   "metadata": {},
   "outputs": [
    {
     "data": {
      "text/html": [
       "<div>\n",
       "<style scoped>\n",
       "    .dataframe tbody tr th:only-of-type {\n",
       "        vertical-align: middle;\n",
       "    }\n",
       "\n",
       "    .dataframe tbody tr th {\n",
       "        vertical-align: top;\n",
       "    }\n",
       "\n",
       "    .dataframe thead th {\n",
       "        text-align: right;\n",
       "    }\n",
       "</style>\n",
       "<table border=\"1\" class=\"dataframe\">\n",
       "  <thead>\n",
       "    <tr style=\"text-align: right;\">\n",
       "      <th></th>\n",
       "      <th>ApplicantIncome</th>\n",
       "      <th>CoapplicantIncome</th>\n",
       "      <th>LoanAmount</th>\n",
       "      <th>Loan_Amount_Term</th>\n",
       "      <th>Credit_History</th>\n",
       "    </tr>\n",
       "  </thead>\n",
       "  <tbody>\n",
       "    <tr>\n",
       "      <th>count</th>\n",
       "      <td>734.000000</td>\n",
       "      <td>734.000000</td>\n",
       "      <td>734.000000</td>\n",
       "      <td>734.000000</td>\n",
       "      <td>734.000000</td>\n",
       "    </tr>\n",
       "    <tr>\n",
       "      <th>mean</th>\n",
       "      <td>4805.599455</td>\n",
       "      <td>1569.577657</td>\n",
       "      <td>136.132597</td>\n",
       "      <td>342.537396</td>\n",
       "      <td>0.839237</td>\n",
       "    </tr>\n",
       "    <tr>\n",
       "      <th>std</th>\n",
       "      <td>4907.334539</td>\n",
       "      <td>2332.639310</td>\n",
       "      <td>60.904453</td>\n",
       "      <td>64.576271</td>\n",
       "      <td>0.367563</td>\n",
       "    </tr>\n",
       "    <tr>\n",
       "      <th>min</th>\n",
       "      <td>0.000000</td>\n",
       "      <td>0.000000</td>\n",
       "      <td>28.000000</td>\n",
       "      <td>6.000000</td>\n",
       "      <td>0.000000</td>\n",
       "    </tr>\n",
       "    <tr>\n",
       "      <th>25%</th>\n",
       "      <td>2862.000000</td>\n",
       "      <td>0.000000</td>\n",
       "      <td>101.000000</td>\n",
       "      <td>360.000000</td>\n",
       "      <td>1.000000</td>\n",
       "    </tr>\n",
       "    <tr>\n",
       "      <th>50%</th>\n",
       "      <td>3786.000000</td>\n",
       "      <td>1025.000000</td>\n",
       "      <td>126.000000</td>\n",
       "      <td>360.000000</td>\n",
       "      <td>1.000000</td>\n",
       "    </tr>\n",
       "    <tr>\n",
       "      <th>75%</th>\n",
       "      <td>5061.000000</td>\n",
       "      <td>2437.250000</td>\n",
       "      <td>157.750000</td>\n",
       "      <td>360.000000</td>\n",
       "      <td>1.000000</td>\n",
       "    </tr>\n",
       "    <tr>\n",
       "      <th>max</th>\n",
       "      <td>72529.000000</td>\n",
       "      <td>24000.000000</td>\n",
       "      <td>550.000000</td>\n",
       "      <td>480.000000</td>\n",
       "      <td>1.000000</td>\n",
       "    </tr>\n",
       "  </tbody>\n",
       "</table>\n",
       "</div>"
      ],
      "text/plain": [
       "       ApplicantIncome  CoapplicantIncome  LoanAmount  Loan_Amount_Term  \\\n",
       "count       734.000000         734.000000  734.000000        734.000000   \n",
       "mean       4805.599455        1569.577657  136.132597        342.537396   \n",
       "std        4907.334539        2332.639310   60.904453         64.576271   \n",
       "min           0.000000           0.000000   28.000000          6.000000   \n",
       "25%        2862.000000           0.000000  101.000000        360.000000   \n",
       "50%        3786.000000        1025.000000  126.000000        360.000000   \n",
       "75%        5061.000000        2437.250000  157.750000        360.000000   \n",
       "max       72529.000000       24000.000000  550.000000        480.000000   \n",
       "\n",
       "       Credit_History  \n",
       "count      734.000000  \n",
       "mean         0.839237  \n",
       "std          0.367563  \n",
       "min          0.000000  \n",
       "25%          1.000000  \n",
       "50%          1.000000  \n",
       "75%          1.000000  \n",
       "max          1.000000  "
      ]
     },
     "execution_count": 27,
     "metadata": {},
     "output_type": "execute_result"
    }
   ],
   "source": [
    "df.describe()"
   ]
  },
  {
   "cell_type": "code",
   "execution_count": 32,
   "id": "5f26a067-4572-4b50-8ba9-089ca2772623",
   "metadata": {},
   "outputs": [
    {
     "name": "stdout",
     "output_type": "stream",
     "text": [
      "Removing Deduplicates:(734, 13)\n"
     ]
    }
   ],
   "source": [
    "df=df.drop_duplicates()\n",
    "print (f\"Removing Deduplicates:{df.shape}\")"
   ]
  },
  {
   "cell_type": "code",
   "execution_count": null,
   "id": "67815ace-e54d-4743-b54b-9621295f533a",
   "metadata": {},
   "outputs": [],
   "source": []
  }
 ],
 "metadata": {
  "kernelspec": {
   "display_name": "Python 3 (ipykernel)",
   "language": "python",
   "name": "python3"
  },
  "language_info": {
   "codemirror_mode": {
    "name": "ipython",
    "version": 3
   },
   "file_extension": ".py",
   "mimetype": "text/x-python",
   "name": "python",
   "nbconvert_exporter": "python",
   "pygments_lexer": "ipython3",
   "version": "3.12.7"
  }
 },
 "nbformat": 4,
 "nbformat_minor": 5
}
