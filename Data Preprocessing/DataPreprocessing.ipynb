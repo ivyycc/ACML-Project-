{
 "cells": [
  {
   "cell_type": "code",
   "execution_count": 2,
   "id": "13eb2f9b",
   "metadata": {},
   "outputs": [],
   "source": [
    "# Install scikit-learn if not already installed\n",
    "#Import libraries\n",
    "import pandas as pd #For data manipulation and analysis\n",
    "import os #For file and directory manipulation\n",
    "import numpy as np #For numerical operations\n",
    "import matplotlib.pyplot as plt #For data visualization\n",
    "import seaborn as sns #For statistical data visualization\n",
    "from sklearn.preprocessing import StandardScaler, LabelEncoder, OneHotEncoder #For data preprocessing"
   ]
  },
  {
   "cell_type": "code",
   "execution_count": 3,
   "id": "fe8be781",
   "metadata": {},
   "outputs": [],
   "source": [
    "# Define the file path\n",
    "filepath = 'C:/Users/Bruce Mphekgwane/Downloads/archive/test.csv'  # Replace with the actual path to your CSV file\n",
    "\n",
    "# Load the CSV file into a DataFrame\n",
    "df_Test = pd.read_csv(filepath)\n",
    "\n",
    "# Define the file path\n",
    "filepath2 = 'C:/Users/Bruce Mphekgwane/Downloads/archive/train.csv'  # Replace with the actual path to your CSV file\n",
    "\n",
    "# Load the CSV file into a DataFrame\n",
    "df_Test2 = pd.read_csv(filepath)\n"
   ]
  },
  {
   "cell_type": "code",
   "execution_count": 4,
   "id": "d3787891",
   "metadata": {},
   "outputs": [
    {
     "data": {
      "text/html": [
       "<div>\n",
       "<style scoped>\n",
       "    .dataframe tbody tr th:only-of-type {\n",
       "        vertical-align: middle;\n",
       "    }\n",
       "\n",
       "    .dataframe tbody tr th {\n",
       "        vertical-align: top;\n",
       "    }\n",
       "\n",
       "    .dataframe thead th {\n",
       "        text-align: right;\n",
       "    }\n",
       "</style>\n",
       "<table border=\"1\" class=\"dataframe\">\n",
       "  <thead>\n",
       "    <tr style=\"text-align: right;\">\n",
       "      <th></th>\n",
       "      <th>Loan_ID</th>\n",
       "      <th>Gender</th>\n",
       "      <th>Married</th>\n",
       "      <th>Dependents</th>\n",
       "      <th>Education</th>\n",
       "      <th>Self_Employed</th>\n",
       "      <th>ApplicantIncome</th>\n",
       "      <th>CoapplicantIncome</th>\n",
       "      <th>LoanAmount</th>\n",
       "      <th>Loan_Amount_Term</th>\n",
       "      <th>Credit_History</th>\n",
       "      <th>Property_Area</th>\n",
       "      <th>dataset_name</th>\n",
       "    </tr>\n",
       "  </thead>\n",
       "  <tbody>\n",
       "    <tr>\n",
       "      <th>0</th>\n",
       "      <td>LP001015</td>\n",
       "      <td>Male</td>\n",
       "      <td>Yes</td>\n",
       "      <td>0</td>\n",
       "      <td>Graduate</td>\n",
       "      <td>No</td>\n",
       "      <td>5720</td>\n",
       "      <td>0</td>\n",
       "      <td>110.0</td>\n",
       "      <td>360.0</td>\n",
       "      <td>1.0</td>\n",
       "      <td>Urban</td>\n",
       "      <td>test</td>\n",
       "    </tr>\n",
       "    <tr>\n",
       "      <th>1</th>\n",
       "      <td>LP001022</td>\n",
       "      <td>Male</td>\n",
       "      <td>Yes</td>\n",
       "      <td>1</td>\n",
       "      <td>Graduate</td>\n",
       "      <td>No</td>\n",
       "      <td>3076</td>\n",
       "      <td>1500</td>\n",
       "      <td>126.0</td>\n",
       "      <td>360.0</td>\n",
       "      <td>1.0</td>\n",
       "      <td>Urban</td>\n",
       "      <td>test</td>\n",
       "    </tr>\n",
       "    <tr>\n",
       "      <th>2</th>\n",
       "      <td>LP001031</td>\n",
       "      <td>Male</td>\n",
       "      <td>Yes</td>\n",
       "      <td>2</td>\n",
       "      <td>Graduate</td>\n",
       "      <td>No</td>\n",
       "      <td>5000</td>\n",
       "      <td>1800</td>\n",
       "      <td>208.0</td>\n",
       "      <td>360.0</td>\n",
       "      <td>1.0</td>\n",
       "      <td>Urban</td>\n",
       "      <td>test</td>\n",
       "    </tr>\n",
       "    <tr>\n",
       "      <th>3</th>\n",
       "      <td>LP001035</td>\n",
       "      <td>Male</td>\n",
       "      <td>Yes</td>\n",
       "      <td>2</td>\n",
       "      <td>Graduate</td>\n",
       "      <td>No</td>\n",
       "      <td>2340</td>\n",
       "      <td>2546</td>\n",
       "      <td>100.0</td>\n",
       "      <td>360.0</td>\n",
       "      <td>NaN</td>\n",
       "      <td>Urban</td>\n",
       "      <td>test</td>\n",
       "    </tr>\n",
       "    <tr>\n",
       "      <th>4</th>\n",
       "      <td>LP001051</td>\n",
       "      <td>Male</td>\n",
       "      <td>No</td>\n",
       "      <td>0</td>\n",
       "      <td>Not Graduate</td>\n",
       "      <td>No</td>\n",
       "      <td>3276</td>\n",
       "      <td>0</td>\n",
       "      <td>78.0</td>\n",
       "      <td>360.0</td>\n",
       "      <td>1.0</td>\n",
       "      <td>Urban</td>\n",
       "      <td>test</td>\n",
       "    </tr>\n",
       "  </tbody>\n",
       "</table>\n",
       "</div>"
      ],
      "text/plain": [
       "    Loan_ID Gender Married Dependents     Education Self_Employed  \\\n",
       "0  LP001015   Male     Yes          0      Graduate            No   \n",
       "1  LP001022   Male     Yes          1      Graduate            No   \n",
       "2  LP001031   Male     Yes          2      Graduate            No   \n",
       "3  LP001035   Male     Yes          2      Graduate            No   \n",
       "4  LP001051   Male      No          0  Not Graduate            No   \n",
       "\n",
       "   ApplicantIncome  CoapplicantIncome  LoanAmount  Loan_Amount_Term  \\\n",
       "0             5720                  0       110.0             360.0   \n",
       "1             3076               1500       126.0             360.0   \n",
       "2             5000               1800       208.0             360.0   \n",
       "3             2340               2546       100.0             360.0   \n",
       "4             3276                  0        78.0             360.0   \n",
       "\n",
       "   Credit_History Property_Area dataset_name  \n",
       "0             1.0         Urban         test  \n",
       "1             1.0         Urban         test  \n",
       "2             1.0         Urban         test  \n",
       "3             NaN         Urban         test  \n",
       "4             1.0         Urban         test  "
      ]
     },
     "execution_count": 4,
     "metadata": {},
     "output_type": "execute_result"
    }
   ],
   "source": [
    "df_Test['dataset_name'] = 'test'\n",
    "df_Test2['dataset_name'] = 'train'\n",
    "# Concatenate the two DataFrames\n",
    "df = pd.concat([df_Test, df_Test2], ignore_index=True)\n",
    "df.head()"
   ]
  },
  {
   "cell_type": "code",
   "execution_count": 5,
   "id": "619a4a59",
   "metadata": {},
   "outputs": [
    {
     "name": "stdout",
     "output_type": "stream",
     "text": [
      "<class 'pandas.core.frame.DataFrame'>\n",
      "RangeIndex: 734 entries, 0 to 733\n",
      "Data columns (total 13 columns):\n",
      " #   Column             Non-Null Count  Dtype  \n",
      "---  ------             --------------  -----  \n",
      " 0   Loan_ID            734 non-null    object \n",
      " 1   Gender             712 non-null    object \n",
      " 2   Married            734 non-null    object \n",
      " 3   Dependents         714 non-null    object \n",
      " 4   Education          734 non-null    object \n",
      " 5   Self_Employed      688 non-null    object \n",
      " 6   ApplicantIncome    734 non-null    int64  \n",
      " 7   CoapplicantIncome  734 non-null    int64  \n",
      " 8   LoanAmount         724 non-null    float64\n",
      " 9   Loan_Amount_Term   722 non-null    float64\n",
      " 10  Credit_History     676 non-null    float64\n",
      " 11  Property_Area      734 non-null    object \n",
      " 12  dataset_name       734 non-null    object \n",
      "dtypes: float64(3), int64(2), object(8)\n",
      "memory usage: 74.7+ KB\n"
     ]
    }
   ],
   "source": [
    "df.info()"
   ]
  },
  {
   "cell_type": "markdown",
   "id": "80dd123d",
   "metadata": {},
   "source": [
    " Checking & Removing Duplicates"
   ]
  },
  {
   "cell_type": "code",
   "execution_count": 6,
   "id": "dd861d27",
   "metadata": {},
   "outputs": [
    {
     "name": "stdout",
     "output_type": "stream",
     "text": [
      "Results from checking & removing duplicates:(734, 13)\n"
     ]
    }
   ],
   "source": [
    "#Dropping Duplicates on the original dataframe\n",
    "df=df.drop_duplicates()\n",
    "print (f\"Results from checking & removing duplicates:{df.shape}\") "
   ]
  },
  {
   "cell_type": "code",
   "execution_count": 7,
   "id": "ec22390f",
   "metadata": {},
   "outputs": [
    {
     "name": "stdout",
     "output_type": "stream",
     "text": [
      "Loan_ID               0\n",
      "Gender               22\n",
      "Married               0\n",
      "Dependents           20\n",
      "Education             0\n",
      "Self_Employed        46\n",
      "ApplicantIncome       0\n",
      "CoapplicantIncome     0\n",
      "LoanAmount           10\n",
      "Loan_Amount_Term     12\n",
      "Credit_History       58\n",
      "Property_Area         0\n",
      "dataset_name          0\n",
      "dtype: int64\n"
     ]
    }
   ],
   "source": [
    "# Counting all missing values\n",
    "print(df.isnull().sum())"
   ]
  },
  {
   "cell_type": "markdown",
   "id": "9857da82",
   "metadata": {},
   "source": [
    "Method 1 : Dropping Missing Values "
   ]
  },
  {
   "cell_type": "code",
   "execution_count": 8,
   "id": "0c5cece6",
   "metadata": {},
   "outputs": [
    {
     "name": "stdout",
     "output_type": "stream",
     "text": [
      "Loan_ID              0\n",
      "Gender               0\n",
      "Married              0\n",
      "Dependents           0\n",
      "Education            0\n",
      "Self_Employed        0\n",
      "ApplicantIncome      0\n",
      "CoapplicantIncome    0\n",
      "LoanAmount           0\n",
      "Loan_Amount_Term     0\n",
      "Credit_History       0\n",
      "Property_Area        0\n",
      "dataset_name         0\n",
      "dtype: int64\n",
      "Dataset shape after dropping missing values: (578, 13)\n"
     ]
    }
   ],
   "source": [
    "# Drop rows with missing values\n",
    "df_dropped = df.dropna()\n",
    "\n",
    "# Verify if all missing values are removed\n",
    "print(df_dropped.isnull().sum())\n",
    "\n",
    "# Display the shape of the DataFrame after dropping missing values\n",
    "print(f\"Dataset shape after dropping missing values: {df_dropped.shape}\")\n"
   ]
  },
  {
   "cell_type": "code",
   "execution_count": 9,
   "id": "a58025ba",
   "metadata": {},
   "outputs": [
    {
     "name": "stdout",
     "output_type": "stream",
     "text": [
      "<class 'pandas.core.frame.DataFrame'>\n",
      "Index: 578 entries, 0 to 733\n",
      "Data columns (total 13 columns):\n",
      " #   Column             Non-Null Count  Dtype  \n",
      "---  ------             --------------  -----  \n",
      " 0   Loan_ID            578 non-null    object \n",
      " 1   Gender             578 non-null    object \n",
      " 2   Married            578 non-null    object \n",
      " 3   Dependents         578 non-null    object \n",
      " 4   Education          578 non-null    object \n",
      " 5   Self_Employed      578 non-null    object \n",
      " 6   ApplicantIncome    578 non-null    int64  \n",
      " 7   CoapplicantIncome  578 non-null    int64  \n",
      " 8   LoanAmount         578 non-null    float64\n",
      " 9   Loan_Amount_Term   578 non-null    float64\n",
      " 10  Credit_History     578 non-null    float64\n",
      " 11  Property_Area      578 non-null    object \n",
      " 12  dataset_name       578 non-null    object \n",
      "dtypes: float64(3), int64(2), object(8)\n",
      "memory usage: 63.2+ KB\n"
     ]
    }
   ],
   "source": [
    "# Check dataset update after dropping missing values in the dataset\n",
    "df_dropped.info()"
   ]
  },
  {
   "cell_type": "markdown",
   "id": "9389e9c3",
   "metadata": {},
   "source": [
    "Method 2 Imputing Missing Values "
   ]
  },
  {
   "cell_type": "code",
   "execution_count": 10,
   "id": "ee6aa37a",
   "metadata": {},
   "outputs": [
    {
     "name": "stdout",
     "output_type": "stream",
     "text": [
      "<class 'pandas.core.frame.DataFrame'>\n",
      "RangeIndex: 734 entries, 0 to 733\n",
      "Data columns (total 13 columns):\n",
      " #   Column             Non-Null Count  Dtype  \n",
      "---  ------             --------------  -----  \n",
      " 0   Loan_ID            734 non-null    object \n",
      " 1   Gender             712 non-null    object \n",
      " 2   Married            734 non-null    object \n",
      " 3   Dependents         714 non-null    object \n",
      " 4   Education          734 non-null    object \n",
      " 5   Self_Employed      688 non-null    object \n",
      " 6   ApplicantIncome    734 non-null    int64  \n",
      " 7   CoapplicantIncome  734 non-null    int64  \n",
      " 8   LoanAmount         724 non-null    float64\n",
      " 9   Loan_Amount_Term   722 non-null    float64\n",
      " 10  Credit_History     676 non-null    float64\n",
      " 11  Property_Area      734 non-null    object \n",
      " 12  dataset_name       734 non-null    object \n",
      "dtypes: float64(3), int64(2), object(8)\n",
      "memory usage: 74.7+ KB\n"
     ]
    }
   ],
   "source": [
    "#Check the Original DataFrame\n",
    "df.info()"
   ]
  },
  {
   "cell_type": "code",
   "execution_count": 11,
   "id": "28e801e6",
   "metadata": {},
   "outputs": [],
   "source": [
    "df_imputed = df.copy()  # Create a copy of the original DataFrame for imputation"
   ]
  },
  {
   "cell_type": "code",
   "execution_count": 12,
   "id": "21268c13",
   "metadata": {},
   "outputs": [
    {
     "name": "stderr",
     "output_type": "stream",
     "text": [
      "C:\\Users\\Bruce Mphekgwane\\AppData\\Local\\Temp\\ipykernel_11340\\3410900125.py:2: FutureWarning: A value is trying to be set on a copy of a DataFrame or Series through chained assignment using an inplace method.\n",
      "The behavior will change in pandas 3.0. This inplace method will never work because the intermediate object on which we are setting values always behaves as a copy.\n",
      "\n",
      "For example, when doing 'df[col].method(value, inplace=True)', try using 'df.method({col: value}, inplace=True)' or df[col] = df[col].method(value) instead, to perform the operation inplace on the original object.\n",
      "\n",
      "\n",
      "  df_imputed['Gender'].fillna('Male', inplace=True)\n",
      "C:\\Users\\Bruce Mphekgwane\\AppData\\Local\\Temp\\ipykernel_11340\\3410900125.py:5: FutureWarning: A value is trying to be set on a copy of a DataFrame or Series through chained assignment using an inplace method.\n",
      "The behavior will change in pandas 3.0. This inplace method will never work because the intermediate object on which we are setting values always behaves as a copy.\n",
      "\n",
      "For example, when doing 'df[col].method(value, inplace=True)', try using 'df.method({col: value}, inplace=True)' or df[col] = df[col].method(value) instead, to perform the operation inplace on the original object.\n",
      "\n",
      "\n",
      "  df_imputed['Dependents'].fillna('0', inplace=True)\n",
      "C:\\Users\\Bruce Mphekgwane\\AppData\\Local\\Temp\\ipykernel_11340\\3410900125.py:8: FutureWarning: A value is trying to be set on a copy of a DataFrame or Series through chained assignment using an inplace method.\n",
      "The behavior will change in pandas 3.0. This inplace method will never work because the intermediate object on which we are setting values always behaves as a copy.\n",
      "\n",
      "For example, when doing 'df[col].method(value, inplace=True)', try using 'df.method({col: value}, inplace=True)' or df[col] = df[col].method(value) instead, to perform the operation inplace on the original object.\n",
      "\n",
      "\n",
      "  df_imputed['Self_Employed'].fillna('No', inplace=True)\n",
      "C:\\Users\\Bruce Mphekgwane\\AppData\\Local\\Temp\\ipykernel_11340\\3410900125.py:11: FutureWarning: A value is trying to be set on a copy of a DataFrame or Series through chained assignment using an inplace method.\n",
      "The behavior will change in pandas 3.0. This inplace method will never work because the intermediate object on which we are setting values always behaves as a copy.\n",
      "\n",
      "For example, when doing 'df[col].method(value, inplace=True)', try using 'df.method({col: value}, inplace=True)' or df[col] = df[col].method(value) instead, to perform the operation inplace on the original object.\n",
      "\n",
      "\n",
      "  df_imputed['LoanAmount'].fillna(df_imputed['LoanAmount'].mean(), inplace=True)\n",
      "C:\\Users\\Bruce Mphekgwane\\AppData\\Local\\Temp\\ipykernel_11340\\3410900125.py:14: FutureWarning: A value is trying to be set on a copy of a DataFrame or Series through chained assignment using an inplace method.\n",
      "The behavior will change in pandas 3.0. This inplace method will never work because the intermediate object on which we are setting values always behaves as a copy.\n",
      "\n",
      "For example, when doing 'df[col].method(value, inplace=True)', try using 'df.method({col: value}, inplace=True)' or df[col] = df[col].method(value) instead, to perform the operation inplace on the original object.\n",
      "\n",
      "\n",
      "  df_imputed['Loan_Amount_Term'].fillna(df_imputed['Loan_Amount_Term'].mean(), inplace=True)\n",
      "C:\\Users\\Bruce Mphekgwane\\AppData\\Local\\Temp\\ipykernel_11340\\3410900125.py:17: FutureWarning: A value is trying to be set on a copy of a DataFrame or Series through chained assignment using an inplace method.\n",
      "The behavior will change in pandas 3.0. This inplace method will never work because the intermediate object on which we are setting values always behaves as a copy.\n",
      "\n",
      "For example, when doing 'df[col].method(value, inplace=True)', try using 'df.method({col: value}, inplace=True)' or df[col] = df[col].method(value) instead, to perform the operation inplace on the original object.\n",
      "\n",
      "\n",
      "  df_imputed['Credit_History'].fillna(1, inplace=True)\n"
     ]
    }
   ],
   "source": [
    "\n",
    "# Impute missing values in the 'Gender' column with 'Male'\n",
    "df_imputed['Gender'].fillna('Male', inplace=True)\n",
    "\n",
    "# Impute missing values in the 'Dependents' column with '0'\n",
    "df_imputed['Dependents'].fillna('0', inplace=True)\n",
    "\n",
    "# Impute missing values in the 'Self_Employed' column with 'No'\n",
    "df_imputed['Self_Employed'].fillna('No', inplace=True)\n",
    "\n",
    "# Impute missing values in the 'LoanAmount' column with its average\n",
    "df_imputed['LoanAmount'].fillna(df_imputed['LoanAmount'].mean(), inplace=True)\n",
    "\n",
    "# Impute missing values in the 'Loan_Amount_Term' column with its average\n",
    "df_imputed['Loan_Amount_Term'].fillna(df_imputed['Loan_Amount_Term'].mean(), inplace=True)\n",
    "\n",
    "# Impute missing values in the 'Credit_History' column with '1'\n",
    "df_imputed['Credit_History'].fillna(1, inplace=True)\n",
    "\n"
   ]
  },
  {
   "cell_type": "code",
   "execution_count": 13,
   "id": "f0a041ea",
   "metadata": {},
   "outputs": [
    {
     "name": "stdout",
     "output_type": "stream",
     "text": [
      "Missing values in the original DataFrame:\n",
      "Loan_ID               0\n",
      "Gender               22\n",
      "Married               0\n",
      "Dependents           20\n",
      "Education             0\n",
      "Self_Employed        46\n",
      "ApplicantIncome       0\n",
      "CoapplicantIncome     0\n",
      "LoanAmount           10\n",
      "Loan_Amount_Term     12\n",
      "Credit_History       58\n",
      "Property_Area         0\n",
      "dataset_name          0\n",
      "dtype: int64\n",
      "\n",
      "Missing values after imputation:\n",
      "Loan_ID              0\n",
      "Gender               0\n",
      "Married              0\n",
      "Dependents           0\n",
      "Education            0\n",
      "Self_Employed        0\n",
      "ApplicantIncome      0\n",
      "CoapplicantIncome    0\n",
      "LoanAmount           0\n",
      "Loan_Amount_Term     0\n",
      "Credit_History       0\n",
      "Property_Area        0\n",
      "dataset_name         0\n",
      "dtype: int64\n"
     ]
    }
   ],
   "source": [
    "# Original DataFrame\n",
    "print(\"Missing values in the original DataFrame:\")\n",
    "print(df.isnull().sum())\n",
    "\n",
    "# Imputed DataFrame\n",
    "print(\"\\nMissing values after imputation:\")\n",
    "print(df_imputed.isnull().sum())"
   ]
  },
  {
   "cell_type": "markdown",
   "id": "1cf512e8",
   "metadata": {},
   "source": [
    "Method 3 Feature Engineering"
   ]
  },
  {
   "cell_type": "code",
   "execution_count": 14,
   "id": "1c230c39",
   "metadata": {},
   "outputs": [
    {
     "name": "stdout",
     "output_type": "stream",
     "text": [
      "Most frequent value in 'Gender': Male\n",
      "Most frequent value in 'Dependents': 0\n",
      "Most frequent value in 'Self_Employed': No\n",
      "Most frequent value in 'LoanAmount' (approx.): 150.0\n",
      "Most frequent value in 'Loan_Amount_Term' (approx.): 360.0\n",
      "Most frequent value in 'Credit_History' (approx.): 1.0\n"
     ]
    }
   ],
   "source": [
    "# Explore the most frequent values for each column\n",
    "columns_to_explore = [ 'Gender', 'Dependents', 'Self_Employed', 'LoanAmount', 'Loan_Amount_Term', 'Credit_History']\n",
    "\n",
    "for col in columns_to_explore:\n",
    "    if df[col].dtype == 'object':  # For categorical columns\n",
    "        print(f\"Most frequent value in '{col}': {df[col].mode()[0]}\")\n",
    "    else:  # For numerical columns\n",
    "        print(f\"Most frequent value in '{col}' (approx.): {df[col].value_counts().idxmax()}\")"
   ]
  },
  {
   "cell_type": "code",
   "execution_count": 15,
   "id": "6bbd7ddc",
   "metadata": {},
   "outputs": [
    {
     "name": "stdout",
     "output_type": "stream",
     "text": [
      "Ratio of Gender:\n",
      "Gender\n",
      "Male      0.803371\n",
      "Female    0.196629\n",
      "Name: proportion, dtype: float64\n"
     ]
    }
   ],
   "source": [
    "# Calculate the ratio of each gender in the DataFrame\n",
    "gender_ratio = df['Gender'].value_counts(normalize=True)\n",
    "print(\"Ratio of Gender:\")\n",
    "print(gender_ratio)"
   ]
  },
  {
   "cell_type": "code",
   "execution_count": 16,
   "id": "0f03f488",
   "metadata": {},
   "outputs": [
    {
     "name": "stdout",
     "output_type": "stream",
     "text": [
      "\n",
      "Summary statistics for numerical columns:\n",
      "       LoanAmount  Loan_Amount_Term  Credit_History\n",
      "count  724.000000        722.000000      676.000000\n",
      "mean   136.132597        342.537396        0.825444\n",
      "std     61.324199         65.111443        0.379868\n",
      "min     28.000000          6.000000        0.000000\n",
      "25%    100.000000        360.000000        1.000000\n",
      "50%    125.000000        360.000000        1.000000\n",
      "75%    158.000000        360.000000        1.000000\n",
      "max    550.000000        480.000000        1.000000\n"
     ]
    }
   ],
   "source": [
    "# Additional statistics for numerical columns\n",
    "numerical_cols = ['LoanAmount', 'Loan_Amount_Term' , 'Credit_History']\n",
    "print(\"\\nSummary statistics for numerical columns:\")\n",
    "print(df[numerical_cols].describe())"
   ]
  },
  {
   "cell_type": "code",
   "execution_count": 17,
   "id": "1c620264",
   "metadata": {},
   "outputs": [
    {
     "name": "stdout",
     "output_type": "stream",
     "text": [
      "<class 'pandas.core.frame.DataFrame'>\n",
      "RangeIndex: 734 entries, 0 to 733\n",
      "Data columns (total 13 columns):\n",
      " #   Column             Non-Null Count  Dtype  \n",
      "---  ------             --------------  -----  \n",
      " 0   Loan_ID            734 non-null    object \n",
      " 1   Gender             712 non-null    object \n",
      " 2   Married            734 non-null    object \n",
      " 3   Dependents         714 non-null    object \n",
      " 4   Education          734 non-null    object \n",
      " 5   Self_Employed      688 non-null    object \n",
      " 6   ApplicantIncome    734 non-null    int64  \n",
      " 7   CoapplicantIncome  734 non-null    int64  \n",
      " 8   LoanAmount         724 non-null    float64\n",
      " 9   Loan_Amount_Term   722 non-null    float64\n",
      " 10  Credit_History     676 non-null    float64\n",
      " 11  Property_Area      734 non-null    object \n",
      " 12  dataset_name       734 non-null    object \n",
      "dtypes: float64(3), int64(2), object(8)\n",
      "memory usage: 74.7+ KB\n"
     ]
    }
   ],
   "source": [
    "df_FeatureEngineering = df.copy()\n",
    "df_FeatureEngineering.info()"
   ]
  },
  {
   "cell_type": "code",
   "execution_count": 18,
   "id": "600291de",
   "metadata": {},
   "outputs": [],
   "source": [
    "# Feature engineering for missing values\n",
    "\n",
    "# For 'Gender', create a new category 'Other' for missing values\n",
    "df_FeatureEngineering['Gender'] = df_FeatureEngineering['Gender'].fillna('Other')\n",
    "\n",
    "# For 'Dependents', create a new category '-1' for missing values\n",
    "df_FeatureEngineering['Dependents'] = df_FeatureEngineering['Dependents'].fillna('-1')\n",
    "\n",
    "# For 'Self_Employed', create a new category 'Other' for missing values\n",
    "df_FeatureEngineering['Self_Employed'] = df_FeatureEngineering['Self_Employed'].fillna('Other')\n",
    "\n",
    "# For 'LoanAmount', assign 0 to missing values\n",
    "df_FeatureEngineering['LoanAmount'] = df_FeatureEngineering['LoanAmount'].fillna(0)\n",
    "\n",
    "# For 'Loan_Amount_Term', assign 0 to missing values\n",
    "df_FeatureEngineering['Loan_Amount_Term'] = df_FeatureEngineering['Loan_Amount_Term'].fillna(0)\n",
    "\n",
    "# For 'Credit_History', assign -1 to missing values\n",
    "df_FeatureEngineering['Credit_History'] = df_FeatureEngineering['Credit_History'].fillna(-1)"
   ]
  },
  {
   "cell_type": "code",
   "execution_count": 19,
   "id": "df6aaf57",
   "metadata": {},
   "outputs": [
    {
     "name": "stdout",
     "output_type": "stream",
     "text": [
      "Loan_ID              0\n",
      "Gender               0\n",
      "Married              0\n",
      "Dependents           0\n",
      "Education            0\n",
      "Self_Employed        0\n",
      "ApplicantIncome      0\n",
      "CoapplicantIncome    0\n",
      "LoanAmount           0\n",
      "Loan_Amount_Term     0\n",
      "Credit_History       0\n",
      "Property_Area        0\n",
      "dataset_name         0\n",
      "dtype: int64\n"
     ]
    }
   ],
   "source": [
    "# Verify if all missing values are handled\n",
    "print(df_FeatureEngineering.isnull().sum())"
   ]
  }
 ],
 "metadata": {
  "kernelspec": {
   "display_name": "Python 3",
   "language": "python",
   "name": "python3"
  },
  "language_info": {
   "codemirror_mode": {
    "name": "ipython",
    "version": 3
   },
   "file_extension": ".py",
   "mimetype": "text/x-python",
   "name": "python",
   "nbconvert_exporter": "python",
   "pygments_lexer": "ipython3",
   "version": "3.13.3"
  }
 },
 "nbformat": 4,
 "nbformat_minor": 5
}
